{
 "cells": [
  {
   "cell_type": "markdown",
   "metadata": {},
   "source": [
    "# This file to call all the functions to create the main map with tabs"
   ]
  },
  {
   "cell_type": "markdown",
   "metadata": {},
   "source": [
    "Import necessary packages"
   ]
  },
  {
   "cell_type": "code",
   "execution_count": 1,
   "metadata": {},
   "outputs": [],
   "source": [
    "import dill\n",
    "from bokeh.io import curdoc,output_notebook, show, output_file\n",
    "from bokeh.plotting import figure\n",
    "from bokeh.models import (LinearColorMapper, ColorBar,GMapOptions, Patches,GMapPlot,Range1d,HoverTool,Panel,Tabs,\n",
    "                          WheelZoomTool,PanTool,TapTool,CustomJS,BoxZoomTool,OpenURL,ColumnDataSource)\n",
    "from bokeh.palettes import brewer\n",
    "from bokeh.plotting import gmap,curdoc\n",
    "from bokeh.models.widgets import RadioGroup\n",
    "from bokeh.layouts import widgetbox, row, column\n",
    "from bokeh.models import CustomJS\n",
    "import pandas as pd\n",
    "from School_Districts import map_school_districts\n",
    "from bokeh.io import output_file, show\n",
    "from bokeh.plotting import figure\n",
    "from Get_coords import get_coords\n",
    "from Community_Districts import map_community_districts\n",
    "from Pred_2024 import map_2024\n",
    "from Subway import map_subway\n",
    "from Zoning_Districts import map_zoning_districts"
   ]
  },
  {
   "cell_type": "markdown",
   "metadata": {},
   "source": [
    "Generating the map"
   ]
  },
  {
   "cell_type": "code",
   "execution_count": 2,
   "metadata": {},
   "outputs": [],
   "source": [
    "output_file(\"tabs.html\")\n",
    "\n",
    "tab1 = Panel(child=map_community_districts(), title=\"Current\")\n",
    "\n",
    "tab2 = Panel(child=map_2024(), title=\"2024\")\n",
    "\n",
    "tab3 = Panel(child=map_school_districts(), title=\"School Districts\")\n",
    "\n",
    "tab4 = Panel(child=map_subway(), title='Subway Lines')\n",
    "\n",
    "tab5 = Panel(child=map_zoning_districts(), title='Zoning Districts')\n",
    "\n",
    "tabs = Tabs(tabs=[ tab1, tab2, tab3 ,tab4,tab5])\n",
    "\n",
    "show(tabs)"
   ]
  }
 ],
 "metadata": {
  "kernelspec": {
   "display_name": "Python 3",
   "language": "python",
   "name": "python3"
  },
  "language_info": {
   "codemirror_mode": {
    "name": "ipython",
    "version": 3
   },
   "file_extension": ".py",
   "mimetype": "text/x-python",
   "name": "python",
   "nbconvert_exporter": "python",
   "pygments_lexer": "ipython3",
   "version": "3.6.8"
  }
 },
 "nbformat": 4,
 "nbformat_minor": 2
}
